{
 "cells": [
  {
   "cell_type": "markdown",
   "metadata": {},
   "source": [
    "# Data Manager Beta Scenario 1: Analyze customer demographics data\n",
    "\n",
    "In this notebook, you'll analyze customer demographics, such as, age, gender, income, and location. You'll load data from a data asset that originated in a governed catalog in Data Manager as well as from a public open data set, cleanse, shape, and enrich the data, and then visualize the data. By the end of the notebook, you'll understand how to combine data to gain insights about which customers you might target to increase sales.\n",
    "\n",
    "This notebook runs on Python 2 with Spark 2.0.\n"
   ]
  },
  {
   "cell_type": "markdown",
   "metadata": {},
   "source": [
    "<a id=\"toc\"></a>\n",
    "## Table of contents\n",
    "\n",
    "#### [Setup](#Setup)\n",
    "[Load data into the notebook](#Load-data-into-the-notebook)\n",
    "#### [Explore customer demographics](#part1)\n",
    "[Prepare the customer data set](#Prepare-the-customer-data-set)<br>\n",
    "[Visualize customer demographics and locations](#Visualize-customer-demographics-and-locations)<br>\n",
    "[Enrich demographic information with open data](#Enrich-demographic-information-with-open-data)<br>   \n",
    "#### [Summary](#summary)"
   ]
  },
  {
   "cell_type": "markdown",
   "metadata": {},
   "source": [
    "## Setup\n",
    "You need to import libraries and load the customer data into this notebook.\n",
    "\n",
    "Import the necessary libraries:"
   ]
  },
  {
   "cell_type": "code",
   "execution_count": null,
   "metadata": {
    "collapsed": true
   },
   "outputs": [],
   "source": [
    "import pixiedust\n",
    "import pyspark.sql.functions as func\n",
    "import pyspark.sql.types as types\n",
    "import re\n",
    "import json\n",
    "import os\n",
    "import requests  "
   ]
  },
  {
   "cell_type": "markdown",
   "metadata": {},
   "source": [
    "### Load data into the notebook\n",
    "\n",
    "The data file you'll be loading contains the customer demographic data required for this exercise.\n",
    "\n",
    "**Option 1: Load data from project data asset** \n",
    "\n",
    "If you are following the Data Manager Beta scenario, you should have a data asset called **customer orders** in the project (which is created by loading the local file **customers_orders1_opt.csv**). To load this data into the notebook:\n",
    "* Click on the the empty input line **In [ ]** below so that your cursor is in the input line.\n",
    "* Click on the **\"1001\" icon** (Find and Add Data) located at the top right corner of the toolbar. \n",
    "* You should see the data asset **customer orders** listed under **Files**.\n",
    "* Click on **Insert to code**.\n",
    "* Select **Insert SparkSession DataFrame**.\n",
    "* You should see lines of code being added to the input line. The first line should say **from pyspark.sql import SparkSession**.\n",
    "* In the last four lines of code, ensure that the data is read into a data frame named **df_data_1**. Update if necessary, e.g. **df_data_1 = spark.read** and **df_data_1.take(5)**.\n",
    "\n",
    "**Option 2: Load data from URL** \n",
    "\n",
    "If you do not have the data asset in the project, you can copy and paste the following line into input line below:\n",
    "\n",
    "`df_data_1 = pixiedust.sampleData('https://raw.githubusercontent.com/wdp-beta/get-started/master/data/customers_orders1_opt.csv')`"
   ]
  },
  {
   "cell_type": "code",
   "execution_count": null,
   "metadata": {
    "collapsed": true
   },
   "outputs": [],
   "source": []
  },
  {
   "cell_type": "markdown",
   "metadata": {},
   "source": [
    "[Back to Table of Contents](#toc)\n",
    "<a id=\"part1\"></a>\n",
    "# Explore customer demographics \n",
    "In this notebook, you'll prepare the customer data and then start learning about your customers by creating multiple charts and maps. "
   ]
  },
  {
   "cell_type": "markdown",
   "metadata": {},
   "source": [
    "## Prepare the customer data set\n",
    "You'll create a new DataFrame with just the data you need and then cleanse and enrich the data.\n",
    "\n",
    "Extract the columns that you want, remove duplicate customers, and add a column for aggregations:"
   ]
  },
  {
   "cell_type": "code",
   "execution_count": null,
   "metadata": {
    "collapsed": true
   },
   "outputs": [],
   "source": [
    "# Extract the customer information from the data set\n",
    "# CUSTNAME: string, GenderCode: string, ADDRESS1: string, CITY: string, STATE: string, COUNTRY_CODE: string, POSTAL_CODE: string, POSTAL_CODE_PLUS4: int, ADDRESS2: string, EMAIL_ADDRESS: string, PHONE_NUMBER: string, CREDITCARD_TYPE: string, LOCALITY: string, SALESMAN_ID: string, NATIONALITY: string, NATIONAL_ID: string, CREDITCARD_NUMBER: bigint, DRIVER_LICENSE: string, CUST_ID: int,\n",
    "customer_df = df_data_1.select(\"CUST_ID\", \n",
    "                            \"CUSTNAME\", \n",
    "                            \"ADDRESS1\", \n",
    "                            \"ADDRESS2\", \n",
    "                            \"CITY\", \n",
    "                            \"POSTAL_CODE\", \n",
    "                            \"POSTAL_CODE_PLUS4\", \n",
    "                            \"STATE\", \n",
    "                            \"COUNTRY_CODE\", \n",
    "                            \"EMAIL_ADDRESS\", \n",
    "                            \"PHONE_NUMBER\",\n",
    "                            \"AGE\",\n",
    "                            \"GenderCode\",\n",
    "                            \"GENERATION\",\n",
    "                            \"NATIONALITY\", \n",
    "                            \"NATIONAL_ID\", \n",
    "                            \"DRIVER_LICENSE\").dropDuplicates()\n",
    "\n",
    "# append a column to the DataFrame for aggregations\n",
    "customer_df = customer_df.withColumn(\"count\", func.lit(1))\n",
    "customer_df"
   ]
  },
  {
   "cell_type": "markdown",
   "metadata": {},
   "source": [
    "Notice that the data type of the AGE column is currently a string. Convert the AGE column to a numeric data type so you can run calculations on customer age."
   ]
  },
  {
   "cell_type": "code",
   "execution_count": null,
   "metadata": {
    "collapsed": true
   },
   "outputs": [],
   "source": [
    "# ---------------------------------------\n",
    "# Cleanse age (enforce numeric data type) \n",
    "# ---------------------------------------\n",
    "\n",
    "def getNumericVal(col):\n",
    "    \"\"\"\n",
    "    input: pyspark.sql.types.Column\n",
    "    output: the numeric value represented by col or None\n",
    "    \"\"\"\n",
    "    try:\n",
    "      return int(col)\n",
    "    except ValueError:\n",
    "      # age-33\n",
    "      match = re.match('^age\\-(\\d+)$', col)\n",
    "      if match:\n",
    "        try:\n",
    "          return int(match.group(1))\n",
    "        except ValueError:    \n",
    "          return None\n",
    "      return None  \n",
    "\n",
    "toNumericValUDF = func.udf(lambda c: getNumericVal(c), types.IntegerType())\n",
    "customer_df = customer_df.withColumn(\"AGE\", toNumericValUDF(customer_df[\"AGE\"]))"
   ]
  },
  {
   "cell_type": "markdown",
   "metadata": {},
   "source": [
    "The GenderCode column contains salutations instead of gender values. Derive the gender information for each customer based on the salutation and rename the GenderCode column to GENDER."
   ]
  },
  {
   "cell_type": "code",
   "execution_count": null,
   "metadata": {
    "collapsed": true
   },
   "outputs": [],
   "source": [
    "# ------------------------------\n",
    "# Derive gender from salutation\n",
    "# ------------------------------\n",
    "def deriveGender(col):\n",
    "    \"\"\" input: pyspark.sql.types.Column\n",
    "        output: \"male\", \"female\" or \"unknown\"\n",
    "    \"\"\"    \n",
    "    if col in ['Mr.', 'Master.']:\n",
    "        return 'male'\n",
    "    elif col in ['Mrs.', 'Miss.']:\n",
    "        return 'female'\n",
    "    else:\n",
    "        return 'unknown';\n",
    "    \n",
    "deriveGenderUDF = func.udf(lambda c: deriveGender(c), types.StringType())\n",
    "customer_df = customer_df.withColumn(\"GENDER\", deriveGenderUDF(customer_df[\"GenderCode\"]))\n",
    "customer_df.cache()"
   ]
  },
  {
   "cell_type": "markdown",
   "metadata": {},
   "source": [
    "[Back to Table of Contents](#toc)\n",
    "## Visualize customer demographics and locations\n",
    "\n",
    "Now you're ready explore the customer base. Using simple charts, you can quickly see these characteristics:\n",
    " * Customer demographics (gender and age)\n",
    " * Customer locations (city, state, and country)\n",
    "\n",
    "You'll create charts with the PixieDust library:\n",
    "\n",
    " - [View customers by gender in a pie chart](#View-customers-by-gender-in-a-pie-chart)\n",
    " - [View customers by generation in a bar chart](#View-customers-by-generation-in-a-bar-chart)\n",
    " - [View customers by age in a histogram chart](#View-customers-by-age-in-a-histogram-chart)\n",
    " - [View specific information with a filter function](#View-specific-information-with-a-filter-function)\n",
    " - [View customer density by location with a map](#View-customer-density-by-location-with-a-map)"
   ]
  },
  {
   "cell_type": "markdown",
   "metadata": {},
   "source": [
    "### View customers by gender in a pie chart\n",
    "\n",
    "Run the `display()` command and then configure the graph to show the percentages of male and female customers:\n",
    "\n",
    "1. Run the next cell. The PixieDust interactive widget appears.  \n",
    "1. Click the chart button and choose **Pie Chart**. The chart options tool appears.\n",
    "1. In the chart options tool, drag `count` into the **Values** box. \n",
    "1. Move `GENDER` into the **Keys** box. \n",
    "1. In the **Aggregation** field, choose **COUNT**. \n",
    "1. Click **OK**. The pie chart appears.\n",
    "\n",
    "If you want to make further changes, click **Options** to return to the chart options tool."
   ]
  },
  {
   "cell_type": "code",
   "execution_count": null,
   "metadata": {
    "collapsed": true,
    "pixiedust": {
     "displayParams": {
      "aggregation": "COUNT",
      "chartsize": "50",
      "handlerId": "pieChart",
      "keyFields": "GENDER",
      "rowCount": "500",
      "valueFields": "count"
     }
    }
   },
   "outputs": [],
   "source": [
    "display(customer_df)"
   ]
  },
  {
   "cell_type": "markdown",
   "metadata": {},
   "source": [
    "[Back to Table of Contents](#toc)\n",
    "### View customers by generation in a bar chart\n",
    "Look at how many customers you have per \"generation.\"\n",
    "\n",
    "Run the next cell and configure the graph: \n",
    "1. Choose **Bar Chart** as the chart type.\n",
    "2. Put `GENERATION` into the **Keys** box.\n",
    "3. Put `count` into the **Values** box.\n",
    "4. Set aggregation to COUNT."
   ]
  },
  {
   "cell_type": "code",
   "execution_count": null,
   "metadata": {
    "collapsed": true,
    "pixiedust": {
     "displayParams": {
      "aggregation": "COUNT",
      "chartsize": "51",
      "handlerId": "barChart",
      "keyFields": "GENERATION",
      "rendererId": "bokeh",
      "rowCount": "500",
      "valueFields": "count"
     }
    }
   },
   "outputs": [],
   "source": [
    "display(customer_df)"
   ]
  },
  {
   "cell_type": "markdown",
   "metadata": {},
   "source": [
    "You can use clustering to group customers, for example by geographic location. To group generations by country, select `COUNTRY_CODE` from the **Cluster by** list. "
   ]
  },
  {
   "cell_type": "markdown",
   "metadata": {},
   "source": [
    "[Back to Table of Contents](#toc)\n",
    "### View customers by age in a histogram chart\n",
    "A generation is a broad age range. You can look at a smaller age range with a histogram chart. A histogram is like a bar chart except each bar represents a range of numbers, called a bin. You can customize the size of the age range by adjusting the bin size. The more bins you specify, the smaller the age range.\n",
    "\n",
    "Run the next cell and configure the graph:\n",
    "1. Choose **Histogram** as the chart type.\n",
    "2. Put `AGE` into the **Keys** box and click **OK**.\n",
    "3. Use the **Bin size** slider to specify the number of the bins. Try starting with 40."
   ]
  },
  {
   "cell_type": "code",
   "execution_count": null,
   "metadata": {
    "collapsed": true,
    "pixiedust": {
     "displayParams": {
      "binsize": "40",
      "chartsize": "60",
      "handlerId": "histogram",
      "rendererId": "bokeh",
      "rowCount": "500",
      "valueFields": "AGE"
     }
    }
   },
   "outputs": [],
   "source": [
    "display(customer_df)"
   ]
  },
  {
   "cell_type": "markdown",
   "metadata": {},
   "source": [
    "[Back to Table of Contents](#toc)\n",
    "### View specific information with a filter function\n",
    "\n",
    "You can filter records to restrict analysis by using the `filter()` function.\n",
    "\n",
    "If you want to view the age distribution for a specific generation, uncomment and run one of the following commands:\n",
    "\n",
    "Run the next cell and configure the graph:\n",
    "1. Choose **Histogram** as the chart type.\n",
    "2. Put `AGE` into the **Keys** box and click **OK**.\n"
   ]
  },
  {
   "cell_type": "code",
   "execution_count": null,
   "metadata": {
    "collapsed": true,
    "pixiedust": {
     "displayParams": {
      "GENERATION": "Baby_Boomers",
      "binsize": "29",
      "chartsize": "60",
      "handlerId": "histogram",
      "rowCount": "500",
      "valueFields": "AGE"
     }
    }
   },
   "outputs": [],
   "source": [
    "# Data subsetting: display age distribution for a specific generation\n",
    "display(customer_df.filter(\"GENERATION = 'Baby_Boomers'\"))\n",
    "#display(customer_df.filter(\"GENERATION = 'Gen_X'\"))\n",
    "#display(customer_df.filter(\"GENERATION = 'Gen_Y'\"))\n",
    "#display(customer_df.filter(\"GENERATION = 'Gen_Z'\"))"
   ]
  },
  {
   "cell_type": "markdown",
   "metadata": {},
   "source": [
    "You can also filter by location. For example, the following command creates a new DataFrame that filters for customers from the USA:"
   ]
  },
  {
   "cell_type": "code",
   "execution_count": null,
   "metadata": {
    "collapsed": true
   },
   "outputs": [],
   "source": [
    "us_customer_df = customer_df.filter(\"COUNTRY_CODE = 'US'\")"
   ]
  },
  {
   "cell_type": "markdown",
   "metadata": {},
   "source": [
    "You can pivot your analysis perspective based on aspects that are of interest to you by choosing different keys and clusters.\n",
    "\n",
    "Create a bar chart and cluster the data.\n",
    "\n",
    "Run the next cell and configure the graph:\n",
    "1. Choose **Bar chart** as the chart type.\n",
    "2. Put `COUNTRY_CODE` into the **Keys** box.\n",
    "3. Put `count` in the **Values** box.\n",
    "4. Set Aggregation to **COUNT**.\n",
    "5. Click **OK**. The chart displays the number of US customers.\n",
    "6. From the **Cluster By** list, choose **GENDER**. The chart shows the number of customers by gender."
   ]
  },
  {
   "cell_type": "code",
   "execution_count": null,
   "metadata": {
    "collapsed": true,
    "pixiedust": {
     "displayParams": {
      "aggregation": "COUNT",
      "chartsize": "76",
      "clusterby": "GENDER",
      "handlerId": "barChart",
      "keyFields": "COUNTRY_CODE",
      "legend": "true",
      "rendererId": "bokeh",
      "rowCount": "500",
      "valueFields": "count"
     }
    }
   },
   "outputs": [],
   "source": [
    "display(us_customer_df)"
   ]
  },
  {
   "cell_type": "markdown",
   "metadata": {},
   "source": [
    "Now try to cluster the customers by state.\n",
    "\n",
    "A bar chart isn't the best way to show geographic location!"
   ]
  },
  {
   "cell_type": "markdown",
   "metadata": {},
   "source": [
    "[Back to Table of Contents](#toc)\n",
    "### View customer density by location with a map\n",
    "Maps are a much better way to view location data than other chart types. \n",
    "\n",
    "Visualize customer density by US state with a map.\n",
    "\n",
    "Run the next cell and configure the graph:\n",
    "1. Choose **Map** as the chart type.\n",
    "2. Put `STATE` into the **Keys** box.\n",
    "3. Put `count` in the **Values** box.\n",
    "4. Set Aggregation to **COUNT**.\n",
    "5. Click **OK**. The map displays the number of US customers.\n",
    "6. From the **Renderer** list, choose **google**.\n",
    "7. From the **Display Mode** list, choose **region**.\n",
    "8. From the **Region** list, choose `US`."
   ]
  },
  {
   "cell_type": "code",
   "execution_count": null,
   "metadata": {
    "collapsed": true,
    "pixiedust": {
     "displayParams": {
      "aggregation": "COUNT",
      "handlerId": "mapView",
      "keyFields": "STATE",
      "rendererId": "google",
      "rowCount": "500",
      "valueFields": "count"
     }
    }
   },
   "outputs": [],
   "source": [
    "display(us_customer_df)"
   ]
  },
  {
   "cell_type": "markdown",
   "metadata": {},
   "source": [
    "Hover over an area to display the number of customers in each state."
   ]
  },
  {
   "cell_type": "markdown",
   "metadata": {
    "pixiedust": {
     "displayParams": {
      "aggregation": "COUNT",
      "chartsize": "53",
      "handlerId": "mapView",
      "keyFields": "STATE",
      "rowCount": "500",
      "valueFields": "count"
     }
    }
   },
   "source": [
    "You can explore more about customers in each state by changing the aggregation method. \n",
    "\n",
    "Look at customer age ranges (avg, minimum, and maximum) by state.\n",
    "\n",
    "Run the next cell and configure the graph:\n",
    "1. Choose **Map** as the chart type.\n",
    "2. Put `STATE` into the **Keys** box.\n",
    "3. Put `AGE` in the **Values** box.\n",
    "4. Set Aggregation to **AVG**, **MAX**, or **MIN**.\n",
    "5. Click **OK**. The map displays.\n",
    "6. From the **Renderer** list, choose **google**.\n",
    "7. From the **Display Mode** list, choose **region**.\n",
    "8. From the **Region** list, choose `US`."
   ]
  },
  {
   "cell_type": "code",
   "execution_count": null,
   "metadata": {
    "collapsed": true,
    "pixiedust": {
     "displayParams": {
      "aggregation": "AVG",
      "chartsize": "50",
      "handlerId": "mapView",
      "keyFields": "STATE",
      "rowCount": "500",
      "valueFields": "AGE"
     }
    }
   },
   "outputs": [],
   "source": [
    "display(us_customer_df)"
   ]
  },
  {
   "cell_type": "markdown",
   "metadata": {},
   "source": [
    "[Back to Table of Contents](#toc)\n",
    "## Enrich demographic information with open data\n",
    "You can easily combine other sources of data with your existing data. There's a lot of publicly available open data sets that can be very helpful. For example, knowing the approximate income level of your customers might help you target your marketing campaigns.\n",
    "\n",
    "Run the next cell to load [this data set](https://apsportal.ibm.com/exchange/public/entry/view/beb8c30a3f559e58716d983671b70337) from the **United States Census Bureau** into your notebook. The data set contains US household income statistics compiled at the zip code geography level."
   ]
  },
  {
   "cell_type": "code",
   "execution_count": null,
   "metadata": {
    "collapsed": true
   },
   "outputs": [],
   "source": [
    "# Load median income information for all US ZIP codes from a public source\n",
    "income_df = pixiedust.sampleData('https://apsportal.ibm.com/exchange-api/v1/entries/beb8c30a3f559e58716d983671b70337/data?accessKey=1c0b5b6d465fefec1ab529fde04997af')"
   ]
  },
  {
   "cell_type": "markdown",
   "metadata": {},
   "source": [
    "Now cleanse the income data set to remove the data that you don't need. Create a new DataFrame for this data:\n",
    " - The zip code, extracted from the GEOID column.\n",
    " - The column B19049e1, which contains the median household income for 2013."
   ]
  },
  {
   "cell_type": "code",
   "execution_count": null,
   "metadata": {
    "collapsed": true
   },
   "outputs": [],
   "source": [
    "# ------------------------------\n",
    "# Helper: Extract ZIP code\n",
    "# ------------------------------\n",
    "def extractZIPCode(col):\n",
    "    \"\"\" input: pyspark.sql.types.Column containing a geo code, like '86000US01001'\n",
    "        output: ZIP code\n",
    "    \"\"\"\n",
    "    m = re.match('^\\d+US(\\d\\d\\d\\d\\d)$',col)\n",
    "    if m:\n",
    "        return m.group(1)\n",
    "    else:\n",
    "        return None    \n",
    "    \n",
    "getZIPCodeUDF = func.udf(lambda c: extractZIPCode(c), types.StringType())\n",
    "income_df = income_df.select('GEOID', 'B19049e1').withColumnRenamed('B19049e1', 'MEDIAN_INCOME_IN_ZIP').withColumn(\"ZIP\", getZIPCodeUDF(income_df['GEOID']))\n",
    "income_df"
   ]
  },
  {
   "cell_type": "markdown",
   "metadata": {},
   "source": [
    "Now perform a left outer join on the customer data set with the income data set, using the zip code as the join condition. For the complete syntax of joins, go to the <a href=\"https://spark.apache.org/docs/1.5.2/api/python/pyspark.sql.html#pyspark.sql.DataFrame\" target=\"_blank\" rel=\"noopener noreferrer\">pyspark DataFrame documentation</a> and scroll down to the `join` syntax. "
   ]
  },
  {
   "cell_type": "code",
   "execution_count": null,
   "metadata": {
    "collapsed": true
   },
   "outputs": [],
   "source": [
    "us_customer_df = us_customer_df.join(income_df, us_customer_df.POSTAL_CODE == income_df.ZIP, 'left_outer').drop('GEOID').drop('ZIP')"
   ]
  },
  {
   "cell_type": "markdown",
   "metadata": {},
   "source": [
    "Now you can visualize the income distribution of your customers by zip code.\n",
    " Visualize income distribution for our customers.\n",
    "Run the next cell and configure the graph:\n",
    "1. Choose **Histogram** as the chart type.\n",
    "2. Put `MEDIAN_INCOME_IN_ZIP` into the **Keys** box and click **OK**.\n",
    "3. For **Renderer**, select **bokeh**."
   ]
  },
  {
   "cell_type": "code",
   "execution_count": null,
   "metadata": {
    "collapsed": true,
    "pixiedust": {
     "displayParams": {
      "binsize": "25",
      "chartsize": "52",
      "handlerId": "histogram",
      "rendererId": "bokeh",
      "rowCount": "500",
      "valueFields": "MEDIAN_INCOME_IN_ZIP"
     }
    }
   },
   "outputs": [],
   "source": [
    "display(us_customer_df)"
   ]
  },
  {
   "cell_type": "markdown",
   "metadata": {},
   "source": [
    "The majority of your customers live in zip codes where the median income is around 40,000 USD. "
   ]
  },
  {
   "cell_type": "markdown",
   "metadata": {
    "collapsed": true
   },
   "source": [
    "[Back to Table of Contents](#toc)\n",
    "<a id=\"summary\"></a>\n",
    "## Summary and next steps\n",
    "\n",
    "You've learned how to cleanse, shape, enrich, and visualize customer and sales data to find valuable insights. \n",
    "\n",
    "### Authors\n",
    "Patrick Titzler is a customer advocate for Watson Data Platform at IBM.\n",
    "\n",
    "<hr>\n",
    "Copyright &copy; IBM Corp. 2017. This notebook and its source code are released under the terms of the MIT License."
   ]
  }
 ],
 "metadata": {
  "kernelspec": {
   "display_name": "Python 2 with Spark 2.0",
   "language": "python",
   "name": "python2-spark20"
  },
  "language_info": {
   "codemirror_mode": {
    "name": "ipython",
    "version": 2
   },
   "file_extension": ".py",
   "mimetype": "text/x-python",
   "name": "python",
   "nbconvert_exporter": "python",
   "pygments_lexer": "ipython2",
   "version": "2.7.11"
  }
 },
 "nbformat": 4,
 "nbformat_minor": 1
}
